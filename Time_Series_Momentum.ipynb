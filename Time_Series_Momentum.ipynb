{
 "cells": [
  {
   "cell_type": "code",
   "execution_count": 1,
   "metadata": {
    "scrolled": false
   },
   "outputs": [],
   "source": [
    "import pandas as pd\n",
    "import numpy as np\n",
    "import matplotlib.pyplot as plt\n",
    "import datetime as dt\n",
    "import seaborn as sns\n",
    "import statsmodels.api as sm\n",
    "import statsmodels.formula.api as smf\n",
    "from scipy.stats import kurtosis, skew, norm\n",
    "from tqdm import tqdm,trange\n",
    "\n",
    "from IPython.display import Markdown, display\n",
    "def printmd(string):\n",
    "    display(Markdown(string))\n",
    "\n",
    "pd.set_option('display.float_format', lambda x: '%.5f' % x)"
   ]
  },
  {
   "cell_type": "code",
   "execution_count": 2,
   "metadata": {
    "scrolled": false
   },
   "outputs": [
    {
     "data": {
      "text/html": [
       "<div>\n",
       "<style scoped>\n",
       "    .dataframe tbody tr th:only-of-type {\n",
       "        vertical-align: middle;\n",
       "    }\n",
       "\n",
       "    .dataframe tbody tr th {\n",
       "        vertical-align: top;\n",
       "    }\n",
       "\n",
       "    .dataframe thead th {\n",
       "        text-align: right;\n",
       "    }\n",
       "</style>\n",
       "<table border=\"1\" class=\"dataframe\">\n",
       "  <thead>\n",
       "    <tr style=\"text-align: right;\">\n",
       "      <th></th>\n",
       "      <th>RF</th>\n",
       "    </tr>\n",
       "    <tr>\n",
       "      <th>Date</th>\n",
       "      <th></th>\n",
       "    </tr>\n",
       "  </thead>\n",
       "  <tbody>\n",
       "    <tr>\n",
       "      <td>1926-07-01</td>\n",
       "      <td>0.00009</td>\n",
       "    </tr>\n",
       "    <tr>\n",
       "      <td>1926-07-02</td>\n",
       "      <td>0.00009</td>\n",
       "    </tr>\n",
       "    <tr>\n",
       "      <td>1926-07-06</td>\n",
       "      <td>0.00009</td>\n",
       "    </tr>\n",
       "    <tr>\n",
       "      <td>1926-07-07</td>\n",
       "      <td>0.00009</td>\n",
       "    </tr>\n",
       "    <tr>\n",
       "      <td>1926-07-08</td>\n",
       "      <td>0.00009</td>\n",
       "    </tr>\n",
       "    <tr>\n",
       "      <td>...</td>\n",
       "      <td>...</td>\n",
       "    </tr>\n",
       "    <tr>\n",
       "      <td>2017-12-22</td>\n",
       "      <td>0.00004</td>\n",
       "    </tr>\n",
       "    <tr>\n",
       "      <td>2017-12-26</td>\n",
       "      <td>0.00004</td>\n",
       "    </tr>\n",
       "    <tr>\n",
       "      <td>2017-12-27</td>\n",
       "      <td>0.00004</td>\n",
       "    </tr>\n",
       "    <tr>\n",
       "      <td>2017-12-28</td>\n",
       "      <td>0.00004</td>\n",
       "    </tr>\n",
       "    <tr>\n",
       "      <td>2017-12-29</td>\n",
       "      <td>0.00004</td>\n",
       "    </tr>\n",
       "  </tbody>\n",
       "</table>\n",
       "<p>24140 rows × 1 columns</p>\n",
       "</div>"
      ],
      "text/plain": [
       "                RF\n",
       "Date              \n",
       "1926-07-01 0.00009\n",
       "1926-07-02 0.00009\n",
       "1926-07-06 0.00009\n",
       "1926-07-07 0.00009\n",
       "1926-07-08 0.00009\n",
       "...            ...\n",
       "2017-12-22 0.00004\n",
       "2017-12-26 0.00004\n",
       "2017-12-27 0.00004\n",
       "2017-12-28 0.00004\n",
       "2017-12-29 0.00004\n",
       "\n",
       "[24140 rows x 1 columns]"
      ]
     },
     "execution_count": 2,
     "metadata": {},
     "output_type": "execute_result"
    }
   ],
   "source": [
    "snp = pd.read_csv('SP500_DailyIndex-1.csv',index_col='Date', parse_dates=True)[['Adj Close']]\n",
    "rf = pd.read_csv('FF3Factors_Daily.csv',index_col='Date', parse_dates=True)[['RF']]\n",
    "rf = rf/100\n",
    "rf"
   ]
  },
  {
   "cell_type": "code",
   "execution_count": 3,
   "metadata": {
    "scrolled": false
   },
   "outputs": [
    {
     "data": {
      "text/html": [
       "<div>\n",
       "<style scoped>\n",
       "    .dataframe tbody tr th:only-of-type {\n",
       "        vertical-align: middle;\n",
       "    }\n",
       "\n",
       "    .dataframe tbody tr th {\n",
       "        vertical-align: top;\n",
       "    }\n",
       "\n",
       "    .dataframe thead th {\n",
       "        text-align: right;\n",
       "    }\n",
       "</style>\n",
       "<table border=\"1\" class=\"dataframe\">\n",
       "  <thead>\n",
       "    <tr style=\"text-align: right;\">\n",
       "      <th></th>\n",
       "      <th>Adj Close</th>\n",
       "      <th>RF</th>\n",
       "      <th>excess</th>\n",
       "    </tr>\n",
       "    <tr>\n",
       "      <th>Date</th>\n",
       "      <th></th>\n",
       "      <th></th>\n",
       "      <th></th>\n",
       "    </tr>\n",
       "  </thead>\n",
       "  <tbody>\n",
       "    <tr>\n",
       "      <td>1960-01-05</td>\n",
       "      <td>0.00801</td>\n",
       "      <td>0.00017</td>\n",
       "      <td>0.00784</td>\n",
       "    </tr>\n",
       "    <tr>\n",
       "      <td>1960-01-06</td>\n",
       "      <td>-0.00431</td>\n",
       "      <td>0.00017</td>\n",
       "      <td>-0.00448</td>\n",
       "    </tr>\n",
       "    <tr>\n",
       "      <td>1960-01-07</td>\n",
       "      <td>-0.00732</td>\n",
       "      <td>0.00017</td>\n",
       "      <td>-0.00749</td>\n",
       "    </tr>\n",
       "    <tr>\n",
       "      <td>1960-01-08</td>\n",
       "      <td>-0.00318</td>\n",
       "      <td>0.00017</td>\n",
       "      <td>-0.00335</td>\n",
       "    </tr>\n",
       "    <tr>\n",
       "      <td>1960-01-11</td>\n",
       "      <td>-0.01227</td>\n",
       "      <td>0.00017</td>\n",
       "      <td>-0.01244</td>\n",
       "    </tr>\n",
       "    <tr>\n",
       "      <td>...</td>\n",
       "      <td>...</td>\n",
       "      <td>...</td>\n",
       "      <td>...</td>\n",
       "    </tr>\n",
       "    <tr>\n",
       "      <td>2017-12-22</td>\n",
       "      <td>-0.00046</td>\n",
       "      <td>0.00004</td>\n",
       "      <td>-0.00050</td>\n",
       "    </tr>\n",
       "    <tr>\n",
       "      <td>2017-12-26</td>\n",
       "      <td>-0.00106</td>\n",
       "      <td>0.00004</td>\n",
       "      <td>-0.00110</td>\n",
       "    </tr>\n",
       "    <tr>\n",
       "      <td>2017-12-27</td>\n",
       "      <td>0.00079</td>\n",
       "      <td>0.00004</td>\n",
       "      <td>0.00075</td>\n",
       "    </tr>\n",
       "    <tr>\n",
       "      <td>2017-12-28</td>\n",
       "      <td>0.00183</td>\n",
       "      <td>0.00004</td>\n",
       "      <td>0.00179</td>\n",
       "    </tr>\n",
       "    <tr>\n",
       "      <td>2017-12-29</td>\n",
       "      <td>-0.00518</td>\n",
       "      <td>0.00004</td>\n",
       "      <td>-0.00522</td>\n",
       "    </tr>\n",
       "  </tbody>\n",
       "</table>\n",
       "<p>14598 rows × 3 columns</p>\n",
       "</div>"
      ],
      "text/plain": [
       "            Adj Close      RF   excess\n",
       "Date                                  \n",
       "1960-01-05    0.00801 0.00017  0.00784\n",
       "1960-01-06   -0.00431 0.00017 -0.00448\n",
       "1960-01-07   -0.00732 0.00017 -0.00749\n",
       "1960-01-08   -0.00318 0.00017 -0.00335\n",
       "1960-01-11   -0.01227 0.00017 -0.01244\n",
       "...               ...     ...      ...\n",
       "2017-12-22   -0.00046 0.00004 -0.00050\n",
       "2017-12-26   -0.00106 0.00004 -0.00110\n",
       "2017-12-27    0.00079 0.00004  0.00075\n",
       "2017-12-28    0.00183 0.00004  0.00179\n",
       "2017-12-29   -0.00518 0.00004 -0.00522\n",
       "\n",
       "[14598 rows x 3 columns]"
      ]
     },
     "execution_count": 3,
     "metadata": {},
     "output_type": "execute_result"
    }
   ],
   "source": [
    "returns = snp.pct_change().dropna()\n",
    "excess = returns.join(rf)\n",
    "excess['excess'] = excess['Adj Close'] - excess.RF\n",
    "excess.dropna(inplace=True)\n",
    "\n",
    "excess"
   ]
  },
  {
   "cell_type": "code",
   "execution_count": 4,
   "metadata": {
    "scrolled": true
   },
   "outputs": [
    {
     "data": {
      "text/html": [
       "<div>\n",
       "<style scoped>\n",
       "    .dataframe tbody tr th:only-of-type {\n",
       "        vertical-align: middle;\n",
       "    }\n",
       "\n",
       "    .dataframe tbody tr th {\n",
       "        vertical-align: top;\n",
       "    }\n",
       "\n",
       "    .dataframe thead th {\n",
       "        text-align: right;\n",
       "    }\n",
       "</style>\n",
       "<table border=\"1\" class=\"dataframe\">\n",
       "  <thead>\n",
       "    <tr style=\"text-align: right;\">\n",
       "      <th></th>\n",
       "      <th>excess</th>\n",
       "    </tr>\n",
       "    <tr>\n",
       "      <th>Date</th>\n",
       "      <th></th>\n",
       "    </tr>\n",
       "  </thead>\n",
       "  <tbody>\n",
       "    <tr>\n",
       "      <td>1960-01-31</td>\n",
       "      <td>-0.07478</td>\n",
       "    </tr>\n",
       "    <tr>\n",
       "      <td>1960-02-29</td>\n",
       "      <td>0.00635</td>\n",
       "    </tr>\n",
       "    <tr>\n",
       "      <td>1960-03-31</td>\n",
       "      <td>-0.01730</td>\n",
       "    </tr>\n",
       "    <tr>\n",
       "      <td>1960-04-30</td>\n",
       "      <td>-0.01949</td>\n",
       "    </tr>\n",
       "    <tr>\n",
       "      <td>1960-05-31</td>\n",
       "      <td>0.02406</td>\n",
       "    </tr>\n",
       "  </tbody>\n",
       "</table>\n",
       "</div>"
      ],
      "text/plain": [
       "             excess\n",
       "Date               \n",
       "1960-01-31 -0.07478\n",
       "1960-02-29  0.00635\n",
       "1960-03-31 -0.01730\n",
       "1960-04-30 -0.01949\n",
       "1960-05-31  0.02406"
      ]
     },
     "execution_count": 4,
     "metadata": {},
     "output_type": "execute_result"
    }
   ],
   "source": [
    "m_excess = pd.DataFrame((excess.excess+1).resample('M').prod()-1)\n",
    "m_excess.head()"
   ]
  },
  {
   "cell_type": "code",
   "execution_count": 5,
   "metadata": {
    "scrolled": true
   },
   "outputs": [
    {
     "data": {
      "text/html": [
       "<div>\n",
       "<style scoped>\n",
       "    .dataframe tbody tr th:only-of-type {\n",
       "        vertical-align: middle;\n",
       "    }\n",
       "\n",
       "    .dataframe tbody tr th {\n",
       "        vertical-align: top;\n",
       "    }\n",
       "\n",
       "    .dataframe thead th {\n",
       "        text-align: right;\n",
       "    }\n",
       "</style>\n",
       "<table border=\"1\" class=\"dataframe\">\n",
       "  <thead>\n",
       "    <tr style=\"text-align: right;\">\n",
       "      <th></th>\n",
       "      <th>excess</th>\n",
       "    </tr>\n",
       "    <tr>\n",
       "      <th>Date</th>\n",
       "      <th></th>\n",
       "    </tr>\n",
       "  </thead>\n",
       "  <tbody>\n",
       "    <tr>\n",
       "      <td>2017-08-31</td>\n",
       "      <td>0.13231</td>\n",
       "    </tr>\n",
       "    <tr>\n",
       "      <td>2017-09-30</td>\n",
       "      <td>0.15469</td>\n",
       "    </tr>\n",
       "    <tr>\n",
       "      <td>2017-10-31</td>\n",
       "      <td>0.20288</td>\n",
       "    </tr>\n",
       "    <tr>\n",
       "      <td>2017-11-30</td>\n",
       "      <td>0.19505</td>\n",
       "    </tr>\n",
       "    <tr>\n",
       "      <td>2017-12-31</td>\n",
       "      <td>0.18453</td>\n",
       "    </tr>\n",
       "  </tbody>\n",
       "</table>\n",
       "</div>"
      ],
      "text/plain": [
       "            excess\n",
       "Date              \n",
       "2017-08-31 0.13231\n",
       "2017-09-30 0.15469\n",
       "2017-10-31 0.20288\n",
       "2017-11-30 0.19505\n",
       "2017-12-31 0.18453"
      ]
     },
     "execution_count": 5,
     "metadata": {},
     "output_type": "execute_result"
    }
   ],
   "source": [
    "rolling_excess = pd.DataFrame((1+m_excess).rolling(12).apply(np.prod, raw=True) - 1)\n",
    "rolling_excess.tail()"
   ]
  },
  {
   "cell_type": "code",
   "execution_count": 6,
   "metadata": {
    "scrolled": false
   },
   "outputs": [],
   "source": [
    "def calc_volatility(r_series):\n",
    "\n",
    "    vol = pd.Series(np.zeros(len(r_series)))\n",
    "    delta = 60.0 / 61.0\n",
    "    d2 = 1 - delta\n",
    "\n",
    "    for t in tqdm(range(len(r_series))):\n",
    "\n",
    "        r = r_series.iloc[0:t+1]\n",
    "\n",
    "        w = np.array(range(0,t+1))[::-1]\n",
    "        \n",
    "        deltas = d2 * (delta**w)\n",
    "\n",
    "        exret_stdev = np.sqrt((261 * np.dot(deltas, ((r - np.dot(deltas, r)) ** 2))))\n",
    "\n",
    "        vol[t] += exret_stdev\n",
    "    vol.index = r_series.index\n",
    "    return vol"
   ]
  },
  {
   "cell_type": "code",
   "execution_count": 7,
   "metadata": {
    "scrolled": false
   },
   "outputs": [
    {
     "name": "stderr",
     "output_type": "stream",
     "text": [
      "100%|███████████████████████████████████████████████████████████████████████████| 14598/14598 [01:04<00:00, 225.37it/s]\n"
     ]
    },
    {
     "data": {
      "text/plain": [
       "Date\n",
       "1960-01-05   0.01596\n",
       "1960-01-06   0.01852\n",
       "1960-01-07   0.02400\n",
       "1960-01-08   0.02469\n",
       "1960-01-11   0.03487\n",
       "               ...  \n",
       "2017-12-22   0.06446\n",
       "2017-12-26   0.06406\n",
       "2017-12-27   0.06354\n",
       "2017-12-28   0.06304\n",
       "2017-12-29   0.06376\n",
       "Length: 14598, dtype: float64"
      ]
     },
     "execution_count": 7,
     "metadata": {},
     "output_type": "execute_result"
    }
   ],
   "source": [
    "ex_ante = calc_volatility(excess.excess)\n",
    "\n",
    "ex_ante\n"
   ]
  },
  {
   "cell_type": "code",
   "execution_count": 8,
   "metadata": {},
   "outputs": [
    {
     "data": {
      "text/plain": [
       "Date\n",
       "1960-01-05   0.01596\n",
       "1960-01-06   0.01852\n",
       "1960-01-07   0.02400\n",
       "1960-01-08   0.02469\n",
       "1960-01-11   0.03487\n",
       "               ...  \n",
       "2017-12-22   0.06446\n",
       "2017-12-26   0.06406\n",
       "2017-12-27   0.06354\n",
       "2017-12-28   0.06304\n",
       "2017-12-29   0.06376\n",
       "Length: 14598, dtype: float64"
      ]
     },
     "execution_count": 8,
     "metadata": {},
     "output_type": "execute_result"
    }
   ],
   "source": [
    "ex_ante.index = excess.index\n",
    "ex_ante"
   ]
  },
  {
   "cell_type": "code",
   "execution_count": 9,
   "metadata": {
    "scrolled": false
   },
   "outputs": [
    {
     "data": {
      "text/html": [
       "<div>\n",
       "<style scoped>\n",
       "    .dataframe tbody tr th:only-of-type {\n",
       "        vertical-align: middle;\n",
       "    }\n",
       "\n",
       "    .dataframe tbody tr th {\n",
       "        vertical-align: top;\n",
       "    }\n",
       "\n",
       "    .dataframe thead th {\n",
       "        text-align: right;\n",
       "    }\n",
       "</style>\n",
       "<table border=\"1\" class=\"dataframe\">\n",
       "  <thead>\n",
       "    <tr style=\"text-align: right;\">\n",
       "      <th></th>\n",
       "      <th>exa</th>\n",
       "      <th>excess</th>\n",
       "      <th>mexcess</th>\n",
       "      <th>pos</th>\n",
       "      <th>size</th>\n",
       "    </tr>\n",
       "    <tr>\n",
       "      <th>Date</th>\n",
       "      <th></th>\n",
       "      <th></th>\n",
       "      <th></th>\n",
       "      <th></th>\n",
       "      <th></th>\n",
       "    </tr>\n",
       "  </thead>\n",
       "  <tbody>\n",
       "    <tr>\n",
       "      <td>1960-12-31</td>\n",
       "      <td>0.10279</td>\n",
       "      <td>-0.05522</td>\n",
       "      <td>0.04474</td>\n",
       "      <td>-1.00000</td>\n",
       "      <td>3.89151</td>\n",
       "    </tr>\n",
       "    <tr>\n",
       "      <td>1961-01-31</td>\n",
       "      <td>0.09791</td>\n",
       "      <td>0.08358</td>\n",
       "      <td>0.06115</td>\n",
       "      <td>1.00000</td>\n",
       "      <td>4.08520</td>\n",
       "    </tr>\n",
       "    <tr>\n",
       "      <td>1961-02-28</td>\n",
       "      <td>0.09385</td>\n",
       "      <td>0.10400</td>\n",
       "      <td>0.02531</td>\n",
       "      <td>1.00000</td>\n",
       "      <td>4.26191</td>\n",
       "    </tr>\n",
       "    <tr>\n",
       "      <td>1961-03-31</td>\n",
       "      <td>0.08958</td>\n",
       "      <td>0.14984</td>\n",
       "      <td>0.02351</td>\n",
       "      <td>1.00000</td>\n",
       "      <td>4.46547</td>\n",
       "    </tr>\n",
       "    <tr>\n",
       "      <td>1961-04-30</td>\n",
       "      <td>0.13664</td>\n",
       "      <td>0.17509</td>\n",
       "      <td>0.00204</td>\n",
       "      <td>1.00000</td>\n",
       "      <td>2.92735</td>\n",
       "    </tr>\n",
       "    <tr>\n",
       "      <td>...</td>\n",
       "      <td>...</td>\n",
       "      <td>...</td>\n",
       "      <td>...</td>\n",
       "      <td>...</td>\n",
       "      <td>...</td>\n",
       "    </tr>\n",
       "    <tr>\n",
       "      <td>2017-08-31</td>\n",
       "      <td>0.07921</td>\n",
       "      <td>0.13231</td>\n",
       "      <td>-0.00037</td>\n",
       "      <td>1.00000</td>\n",
       "      <td>5.04980</td>\n",
       "    </tr>\n",
       "    <tr>\n",
       "      <td>2017-09-30</td>\n",
       "      <td>0.07311</td>\n",
       "      <td>0.15469</td>\n",
       "      <td>0.01829</td>\n",
       "      <td>1.00000</td>\n",
       "      <td>5.47105</td>\n",
       "    </tr>\n",
       "    <tr>\n",
       "      <td>2017-10-31</td>\n",
       "      <td>0.06685</td>\n",
       "      <td>0.20288</td>\n",
       "      <td>0.02129</td>\n",
       "      <td>1.00000</td>\n",
       "      <td>5.98355</td>\n",
       "    </tr>\n",
       "    <tr>\n",
       "      <td>2017-11-30</td>\n",
       "      <td>0.06645</td>\n",
       "      <td>0.19505</td>\n",
       "      <td>0.02722</td>\n",
       "      <td>1.00000</td>\n",
       "      <td>6.01982</td>\n",
       "    </tr>\n",
       "    <tr>\n",
       "      <td>2017-12-31</td>\n",
       "      <td>0.06376</td>\n",
       "      <td>0.18453</td>\n",
       "      <td>0.00902</td>\n",
       "      <td>1.00000</td>\n",
       "      <td>6.27389</td>\n",
       "    </tr>\n",
       "  </tbody>\n",
       "</table>\n",
       "<p>685 rows × 5 columns</p>\n",
       "</div>"
      ],
      "text/plain": [
       "               exa   excess  mexcess      pos    size\n",
       "Date                                                 \n",
       "1960-12-31 0.10279 -0.05522  0.04474 -1.00000 3.89151\n",
       "1961-01-31 0.09791  0.08358  0.06115  1.00000 4.08520\n",
       "1961-02-28 0.09385  0.10400  0.02531  1.00000 4.26191\n",
       "1961-03-31 0.08958  0.14984  0.02351  1.00000 4.46547\n",
       "1961-04-30 0.13664  0.17509  0.00204  1.00000 2.92735\n",
       "...            ...      ...      ...      ...     ...\n",
       "2017-08-31 0.07921  0.13231 -0.00037  1.00000 5.04980\n",
       "2017-09-30 0.07311  0.15469  0.01829  1.00000 5.47105\n",
       "2017-10-31 0.06685  0.20288  0.02129  1.00000 5.98355\n",
       "2017-11-30 0.06645  0.19505  0.02722  1.00000 6.01982\n",
       "2017-12-31 0.06376  0.18453  0.00902  1.00000 6.27389\n",
       "\n",
       "[685 rows x 5 columns]"
      ]
     },
     "execution_count": 9,
     "metadata": {},
     "output_type": "execute_result"
    }
   ],
   "source": [
    "mex = ex_ante.groupby(pd.Grouper(freq=\"M\")).last()\n",
    "df = pd.DataFrame(mex).join(rolling_excess)\n",
    "df.columns = [\"exa\", \"excess\"]\n",
    "df = df.dropna()\n",
    "\n",
    "df['mexcess'] = m_excess\n",
    "df[\"pos\"] = np.sign(df.excess)\n",
    "df[\"size\"] = 0.4 / df.exa\n",
    "\n",
    "df"
   ]
  },
  {
   "cell_type": "code",
   "execution_count": 10,
   "metadata": {
    "scrolled": true
   },
   "outputs": [
    {
     "data": {
      "text/html": [
       "<div>\n",
       "<style scoped>\n",
       "    .dataframe tbody tr th:only-of-type {\n",
       "        vertical-align: middle;\n",
       "    }\n",
       "\n",
       "    .dataframe tbody tr th {\n",
       "        vertical-align: top;\n",
       "    }\n",
       "\n",
       "    .dataframe thead th {\n",
       "        text-align: right;\n",
       "    }\n",
       "</style>\n",
       "<table border=\"1\" class=\"dataframe\">\n",
       "  <thead>\n",
       "    <tr style=\"text-align: right;\">\n",
       "      <th></th>\n",
       "      <th>exa</th>\n",
       "      <th>excess</th>\n",
       "      <th>mexcess</th>\n",
       "      <th>pos</th>\n",
       "      <th>size</th>\n",
       "      <th>tsret</th>\n",
       "    </tr>\n",
       "    <tr>\n",
       "      <th>Date</th>\n",
       "      <th></th>\n",
       "      <th></th>\n",
       "      <th></th>\n",
       "      <th></th>\n",
       "      <th></th>\n",
       "      <th></th>\n",
       "    </tr>\n",
       "  </thead>\n",
       "  <tbody>\n",
       "    <tr>\n",
       "      <td>1960-12-31</td>\n",
       "      <td>0.10279</td>\n",
       "      <td>-0.05522</td>\n",
       "      <td>0.04474</td>\n",
       "      <td>-1.00000</td>\n",
       "      <td>3.89151</td>\n",
       "      <td>nan</td>\n",
       "    </tr>\n",
       "    <tr>\n",
       "      <td>1961-01-31</td>\n",
       "      <td>0.09791</td>\n",
       "      <td>0.08358</td>\n",
       "      <td>0.06115</td>\n",
       "      <td>1.00000</td>\n",
       "      <td>4.08520</td>\n",
       "      <td>-0.23798</td>\n",
       "    </tr>\n",
       "    <tr>\n",
       "      <td>1961-02-28</td>\n",
       "      <td>0.09385</td>\n",
       "      <td>0.10400</td>\n",
       "      <td>0.02531</td>\n",
       "      <td>1.00000</td>\n",
       "      <td>4.26191</td>\n",
       "      <td>0.10340</td>\n",
       "    </tr>\n",
       "    <tr>\n",
       "      <td>1961-03-31</td>\n",
       "      <td>0.08958</td>\n",
       "      <td>0.14984</td>\n",
       "      <td>0.02351</td>\n",
       "      <td>1.00000</td>\n",
       "      <td>4.46547</td>\n",
       "      <td>0.10020</td>\n",
       "    </tr>\n",
       "    <tr>\n",
       "      <td>1961-04-30</td>\n",
       "      <td>0.13664</td>\n",
       "      <td>0.17509</td>\n",
       "      <td>0.00204</td>\n",
       "      <td>1.00000</td>\n",
       "      <td>2.92735</td>\n",
       "      <td>0.00910</td>\n",
       "    </tr>\n",
       "  </tbody>\n",
       "</table>\n",
       "</div>"
      ],
      "text/plain": [
       "               exa   excess  mexcess      pos    size    tsret\n",
       "Date                                                          \n",
       "1960-12-31 0.10279 -0.05522  0.04474 -1.00000 3.89151      nan\n",
       "1961-01-31 0.09791  0.08358  0.06115  1.00000 4.08520 -0.23798\n",
       "1961-02-28 0.09385  0.10400  0.02531  1.00000 4.26191  0.10340\n",
       "1961-03-31 0.08958  0.14984  0.02351  1.00000 4.46547  0.10020\n",
       "1961-04-30 0.13664  0.17509  0.00204  1.00000 2.92735  0.00910"
      ]
     },
     "execution_count": 10,
     "metadata": {},
     "output_type": "execute_result"
    }
   ],
   "source": [
    "df['tsret'] = df['pos'].shift(1) * df['size'].shift(1) * df.mexcess \n",
    "df.head()\n"
   ]
  },
  {
   "cell_type": "code",
   "execution_count": 11,
   "metadata": {
    "scrolled": false
   },
   "outputs": [
    {
     "data": {
      "text/markdown": [
       "**Annualized TS Ret Mean: 0.1464882471721862**"
      ],
      "text/plain": [
       "<IPython.core.display.Markdown object>"
      ]
     },
     "metadata": {},
     "output_type": "display_data"
    },
    {
     "data": {
      "text/markdown": [
       "**Annualized TS Ret Standard Deviation: 0.4162823801947687**"
      ],
      "text/plain": [
       "<IPython.core.display.Markdown object>"
      ]
     },
     "metadata": {},
     "output_type": "display_data"
    },
    {
     "data": {
      "text/markdown": [
       "**Sharpe Ratio: 0.35189634282298426**"
      ],
      "text/plain": [
       "<IPython.core.display.Markdown object>"
      ]
     },
     "metadata": {},
     "output_type": "display_data"
    },
    {
     "data": {
      "text/html": [
       "<div>\n",
       "<style scoped>\n",
       "    .dataframe tbody tr th:only-of-type {\n",
       "        vertical-align: middle;\n",
       "    }\n",
       "\n",
       "    .dataframe tbody tr th {\n",
       "        vertical-align: top;\n",
       "    }\n",
       "\n",
       "    .dataframe thead th {\n",
       "        text-align: right;\n",
       "    }\n",
       "</style>\n",
       "<table border=\"1\" class=\"dataframe\">\n",
       "  <thead>\n",
       "    <tr style=\"text-align: right;\">\n",
       "      <th></th>\n",
       "      <th>tsret</th>\n",
       "    </tr>\n",
       "    <tr>\n",
       "      <th>Date</th>\n",
       "      <th></th>\n",
       "    </tr>\n",
       "  </thead>\n",
       "  <tbody>\n",
       "    <tr>\n",
       "      <td>1965-01-31</td>\n",
       "      <td>0.20885</td>\n",
       "    </tr>\n",
       "    <tr>\n",
       "      <td>1965-02-28</td>\n",
       "      <td>-0.03359</td>\n",
       "    </tr>\n",
       "    <tr>\n",
       "      <td>1965-03-31</td>\n",
       "      <td>-0.12113</td>\n",
       "    </tr>\n",
       "    <tr>\n",
       "      <td>1965-04-30</td>\n",
       "      <td>0.22505</td>\n",
       "    </tr>\n",
       "    <tr>\n",
       "      <td>1965-05-31</td>\n",
       "      <td>-0.08488</td>\n",
       "    </tr>\n",
       "    <tr>\n",
       "      <td>...</td>\n",
       "      <td>...</td>\n",
       "    </tr>\n",
       "    <tr>\n",
       "      <td>2017-07-31</td>\n",
       "      <td>0.09494</td>\n",
       "    </tr>\n",
       "    <tr>\n",
       "      <td>2017-08-31</td>\n",
       "      <td>-0.00207</td>\n",
       "    </tr>\n",
       "    <tr>\n",
       "      <td>2017-09-30</td>\n",
       "      <td>0.09234</td>\n",
       "    </tr>\n",
       "    <tr>\n",
       "      <td>2017-10-31</td>\n",
       "      <td>0.11648</td>\n",
       "    </tr>\n",
       "    <tr>\n",
       "      <td>2017-11-30</td>\n",
       "      <td>0.16288</td>\n",
       "    </tr>\n",
       "  </tbody>\n",
       "</table>\n",
       "<p>635 rows × 1 columns</p>\n",
       "</div>"
      ],
      "text/plain": [
       "              tsret\n",
       "Date               \n",
       "1965-01-31  0.20885\n",
       "1965-02-28 -0.03359\n",
       "1965-03-31 -0.12113\n",
       "1965-04-30  0.22505\n",
       "1965-05-31 -0.08488\n",
       "...             ...\n",
       "2017-07-31  0.09494\n",
       "2017-08-31 -0.00207\n",
       "2017-09-30  0.09234\n",
       "2017-10-31  0.11648\n",
       "2017-11-30  0.16288\n",
       "\n",
       "[635 rows x 1 columns]"
      ]
     },
     "execution_count": 11,
     "metadata": {},
     "output_type": "execute_result"
    }
   ],
   "source": [
    "st = df.index.searchsorted(dt.datetime(1965, 1, 1))\n",
    "en = df.index.searchsorted(dt.datetime(2017, 12, 31))\n",
    "\n",
    "ts_ret = pd.DataFrame(df.tsret.iloc[st:en])\n",
    "\n",
    "m = ts_ret.mean() * 12\n",
    "printmd(f'**Annualized TS Ret Mean: {m[0]}**')\n",
    "s = ts_ret.std() * np.sqrt(12)\n",
    "printmd(f'**Annualized TS Ret Standard Deviation: {s[0]}**')\n",
    "sr = m/s\n",
    "printmd(f'**Sharpe Ratio: {sr[0]}**')\n",
    "ts_ret"
   ]
  },
  {
   "cell_type": "code",
   "execution_count": 12,
   "metadata": {
    "scrolled": true
   },
   "outputs": [
    {
     "data": {
      "text/html": [
       "<div>\n",
       "<style scoped>\n",
       "    .dataframe tbody tr th:only-of-type {\n",
       "        vertical-align: middle;\n",
       "    }\n",
       "\n",
       "    .dataframe tbody tr th {\n",
       "        vertical-align: top;\n",
       "    }\n",
       "\n",
       "    .dataframe thead th {\n",
       "        text-align: right;\n",
       "    }\n",
       "</style>\n",
       "<table border=\"1\" class=\"dataframe\">\n",
       "  <thead>\n",
       "    <tr style=\"text-align: right;\">\n",
       "      <th></th>\n",
       "      <th>tsret</th>\n",
       "      <th>MKTRF</th>\n",
       "      <th>SMB</th>\n",
       "      <th>HML</th>\n",
       "      <th>MOM</th>\n",
       "    </tr>\n",
       "    <tr>\n",
       "      <th>Date</th>\n",
       "      <th></th>\n",
       "      <th></th>\n",
       "      <th></th>\n",
       "      <th></th>\n",
       "      <th></th>\n",
       "    </tr>\n",
       "  </thead>\n",
       "  <tbody>\n",
       "    <tr>\n",
       "      <td>1961-01-31</td>\n",
       "      <td>-0.23798</td>\n",
       "      <td>0.06200</td>\n",
       "      <td>0.00650</td>\n",
       "      <td>0.03700</td>\n",
       "      <td>-0.03970</td>\n",
       "    </tr>\n",
       "    <tr>\n",
       "      <td>1961-02-28</td>\n",
       "      <td>0.10340</td>\n",
       "      <td>0.03570</td>\n",
       "      <td>0.03970</td>\n",
       "      <td>-0.00740</td>\n",
       "      <td>0.01030</td>\n",
       "    </tr>\n",
       "    <tr>\n",
       "      <td>1961-03-31</td>\n",
       "      <td>0.10020</td>\n",
       "      <td>0.02890</td>\n",
       "      <td>0.03230</td>\n",
       "      <td>-0.00770</td>\n",
       "      <td>0.04180</td>\n",
       "    </tr>\n",
       "    <tr>\n",
       "      <td>1961-04-30</td>\n",
       "      <td>0.00910</td>\n",
       "      <td>0.00290</td>\n",
       "      <td>0.00130</td>\n",
       "      <td>0.02050</td>\n",
       "      <td>0.03520</td>\n",
       "    </tr>\n",
       "    <tr>\n",
       "      <td>1961-05-31</td>\n",
       "      <td>0.05102</td>\n",
       "      <td>0.02400</td>\n",
       "      <td>0.01950</td>\n",
       "      <td>0.00480</td>\n",
       "      <td>-0.01500</td>\n",
       "    </tr>\n",
       "  </tbody>\n",
       "</table>\n",
       "</div>"
      ],
      "text/plain": [
       "              tsret   MKTRF     SMB      HML      MOM\n",
       "Date                                                 \n",
       "1961-01-31 -0.23798 0.06200 0.00650  0.03700 -0.03970\n",
       "1961-02-28  0.10340 0.03570 0.03970 -0.00740  0.01030\n",
       "1961-03-31  0.10020 0.02890 0.03230 -0.00770  0.04180\n",
       "1961-04-30  0.00910 0.00290 0.00130  0.02050  0.03520\n",
       "1961-05-31  0.05102 0.02400 0.01950  0.00480 -0.01500"
      ]
     },
     "execution_count": 12,
     "metadata": {},
     "output_type": "execute_result"
    }
   ],
   "source": [
    "momentum = pd.read_csv(\"FF3Factors_MOM_Monthly.csv\", parse_dates=True, index_col=\"Date\")/100\n",
    "momentum.drop(\"RF\", axis=1, inplace=True)\n",
    "join = pd.DataFrame(df['tsret']).join(momentum).dropna()\n",
    "join.columns = [\"tsret\", \"MKTRF\", \"SMB\", \"HML\", \"MOM\"]\n",
    "join.head()"
   ]
  },
  {
   "cell_type": "code",
   "execution_count": 13,
   "metadata": {
    "scrolled": false
   },
   "outputs": [
    {
     "data": {
      "text/plain": [
       "<matplotlib.axes._subplots.AxesSubplot at 0x1052070>"
      ]
     },
     "execution_count": 13,
     "metadata": {},
     "output_type": "execute_result"
    },
    {
     "data": {
      "image/png": "[encoded data removed]",
      "text/plain": [
       "<Figure size 432x288 with 1 Axes>"
      ]
     },
     "metadata": {
      "needs_background": "light"
     },
     "output_type": "display_data"
    }
   ],
   "source": [
    "sns.scatterplot(x=join.tsret,y=join.MKTRF)"
   ]
  },
  {
   "cell_type": "code",
   "execution_count": 14,
   "metadata": {
    "scrolled": false
   },
   "outputs": [
    {
     "data": {
      "text/html": [
       "<table class=\"simpletable\">\n",
       "<caption>OLS Regression Results</caption>\n",
       "<tr>\n",
       "  <th>Dep. Variable:</th>          <td>tsret</td>      <th>  R-squared:         </th> <td>   0.001</td>\n",
       "</tr>\n",
       "<tr>\n",
       "  <th>Model:</th>                   <td>OLS</td>       <th>  Adj. R-squared:    </th> <td>  -0.000</td>\n",
       "</tr>\n",
       "<tr>\n",
       "  <th>Method:</th>             <td>Least Squares</td>  <th>  F-statistic:       </th> <td>  0.7922</td>\n",
       "</tr>\n",
       "<tr>\n",
       "  <th>Date:</th>             <td>Tue, 26 Nov 2019</td> <th>  Prob (F-statistic):</th>  <td> 0.374</td> \n",
       "</tr>\n",
       "<tr>\n",
       "  <th>Time:</th>                 <td>19:19:02</td>     <th>  Log-Likelihood:    </th> <td>  476.07</td>\n",
       "</tr>\n",
       "<tr>\n",
       "  <th>No. Observations:</th>      <td>   684</td>      <th>  AIC:               </th> <td>  -948.1</td>\n",
       "</tr>\n",
       "<tr>\n",
       "  <th>Df Residuals:</th>          <td>   682</td>      <th>  BIC:               </th> <td>  -939.1</td>\n",
       "</tr>\n",
       "<tr>\n",
       "  <th>Df Model:</th>              <td>     1</td>      <th>                     </th>     <td> </td>   \n",
       "</tr>\n",
       "<tr>\n",
       "  <th>Covariance Type:</th>      <td>nonrobust</td>    <th>                     </th>     <td> </td>   \n",
       "</tr>\n",
       "</table>\n",
       "<table class=\"simpletable\">\n",
       "<tr>\n",
       "      <td></td>         <th>coef</th>     <th>std err</th>      <th>t</th>      <th>P>|t|</th>  <th>[0.025</th>    <th>0.975]</th>  \n",
       "</tr>\n",
       "<tr>\n",
       "  <th>Intercept</th> <td>    0.0115</td> <td>    0.005</td> <td>    2.471</td> <td> 0.014</td> <td>    0.002</td> <td>    0.021</td>\n",
       "</tr>\n",
       "<tr>\n",
       "  <th>MKTRF</th>     <td>    0.0938</td> <td>    0.105</td> <td>    0.890</td> <td> 0.374</td> <td>   -0.113</td> <td>    0.301</td>\n",
       "</tr>\n",
       "</table>\n",
       "<table class=\"simpletable\">\n",
       "<tr>\n",
       "  <th>Omnibus:</th>       <td>18.628</td> <th>  Durbin-Watson:     </th> <td>   2.032</td>\n",
       "</tr>\n",
       "<tr>\n",
       "  <th>Prob(Omnibus):</th> <td> 0.000</td> <th>  Jarque-Bera (JB):  </th> <td>  36.050</td>\n",
       "</tr>\n",
       "<tr>\n",
       "  <th>Skew:</th>          <td>-0.122</td> <th>  Prob(JB):          </th> <td>1.49e-08</td>\n",
       "</tr>\n",
       "<tr>\n",
       "  <th>Kurtosis:</th>      <td> 4.098</td> <th>  Cond. No.          </th> <td>    22.8</td>\n",
       "</tr>\n",
       "</table><br/><br/>Warnings:<br/>[1] Standard Errors assume that the covariance matrix of the errors is correctly specified."
      ],
      "text/plain": [
       "<class 'statsmodels.iolib.summary.Summary'>\n",
       "\"\"\"\n",
       "                            OLS Regression Results                            \n",
       "==============================================================================\n",
       "Dep. Variable:                  tsret   R-squared:                       0.001\n",
       "Model:                            OLS   Adj. R-squared:                 -0.000\n",
       "Method:                 Least Squares   F-statistic:                    0.7922\n",
       "Date:                Tue, 26 Nov 2019   Prob (F-statistic):              0.374\n",
       "Time:                        19:19:02   Log-Likelihood:                 476.07\n",
       "No. Observations:                 684   AIC:                            -948.1\n",
       "Df Residuals:                     682   BIC:                            -939.1\n",
       "Df Model:                           1                                         \n",
       "Covariance Type:            nonrobust                                         \n",
       "==============================================================================\n",
       "                 coef    std err          t      P>|t|      [0.025      0.975]\n",
       "------------------------------------------------------------------------------\n",
       "Intercept      0.0115      0.005      2.471      0.014       0.002       0.021\n",
       "MKTRF          0.0938      0.105      0.890      0.374      -0.113       0.301\n",
       "==============================================================================\n",
       "Omnibus:                       18.628   Durbin-Watson:                   2.032\n",
       "Prob(Omnibus):                  0.000   Jarque-Bera (JB):               36.050\n",
       "Skew:                          -0.122   Prob(JB):                     1.49e-08\n",
       "Kurtosis:                       4.098   Cond. No.                         22.8\n",
       "==============================================================================\n",
       "\n",
       "Warnings:\n",
       "[1] Standard Errors assume that the covariance matrix of the errors is correctly specified.\n",
       "\"\"\""
      ]
     },
     "execution_count": 14,
     "metadata": {},
     "output_type": "execute_result"
    }
   ],
   "source": [
    "results = smf.ols('tsret ~ MKTRF', join).fit()\n",
    "results.summary()"
   ]
  },
  {
   "cell_type": "code",
   "execution_count": 15,
   "metadata": {
    "scrolled": false
   },
   "outputs": [
    {
     "data": {
      "text/html": [
       "<table class=\"simpletable\">\n",
       "<caption>OLS Regression Results</caption>\n",
       "<tr>\n",
       "  <th>Dep. Variable:</th>          <td>tsret</td>      <th>  R-squared:         </th> <td>   0.092</td>\n",
       "</tr>\n",
       "<tr>\n",
       "  <th>Model:</th>                   <td>OLS</td>       <th>  Adj. R-squared:    </th> <td>   0.087</td>\n",
       "</tr>\n",
       "<tr>\n",
       "  <th>Method:</th>             <td>Least Squares</td>  <th>  F-statistic:       </th> <td>   17.22</td>\n",
       "</tr>\n",
       "<tr>\n",
       "  <th>Date:</th>             <td>Tue, 26 Nov 2019</td> <th>  Prob (F-statistic):</th> <td>1.82e-13</td>\n",
       "</tr>\n",
       "<tr>\n",
       "  <th>Time:</th>                 <td>19:19:02</td>     <th>  Log-Likelihood:    </th> <td>  508.73</td>\n",
       "</tr>\n",
       "<tr>\n",
       "  <th>No. Observations:</th>      <td>   684</td>      <th>  AIC:               </th> <td>  -1007.</td>\n",
       "</tr>\n",
       "<tr>\n",
       "  <th>Df Residuals:</th>          <td>   679</td>      <th>  BIC:               </th> <td>  -984.8</td>\n",
       "</tr>\n",
       "<tr>\n",
       "  <th>Df Model:</th>              <td>     4</td>      <th>                     </th>     <td> </td>   \n",
       "</tr>\n",
       "<tr>\n",
       "  <th>Covariance Type:</th>      <td>nonrobust</td>    <th>                     </th>     <td> </td>   \n",
       "</tr>\n",
       "</table>\n",
       "<table class=\"simpletable\">\n",
       "<tr>\n",
       "      <td></td>         <th>coef</th>     <th>std err</th>      <th>t</th>      <th>P>|t|</th>  <th>[0.025</th>    <th>0.975]</th>  \n",
       "</tr>\n",
       "<tr>\n",
       "  <th>Intercept</th> <td>    0.0035</td> <td>    0.005</td> <td>    0.750</td> <td> 0.453</td> <td>   -0.006</td> <td>    0.013</td>\n",
       "</tr>\n",
       "<tr>\n",
       "  <th>MKTRF</th>     <td>    0.3812</td> <td>    0.110</td> <td>    3.463</td> <td> 0.001</td> <td>    0.165</td> <td>    0.597</td>\n",
       "</tr>\n",
       "<tr>\n",
       "  <th>SMB</th>       <td>   -0.4591</td> <td>    0.154</td> <td>   -2.983</td> <td> 0.003</td> <td>   -0.761</td> <td>   -0.157</td>\n",
       "</tr>\n",
       "<tr>\n",
       "  <th>HML</th>       <td>    0.4926</td> <td>    0.171</td> <td>    2.884</td> <td> 0.004</td> <td>    0.157</td> <td>    0.828</td>\n",
       "</tr>\n",
       "<tr>\n",
       "  <th>MOM</th>       <td>    0.8358</td> <td>    0.111</td> <td>    7.547</td> <td> 0.000</td> <td>    0.618</td> <td>    1.053</td>\n",
       "</tr>\n",
       "</table>\n",
       "<table class=\"simpletable\">\n",
       "<tr>\n",
       "  <th>Omnibus:</th>       <td>20.992</td> <th>  Durbin-Watson:     </th> <td>   2.032</td>\n",
       "</tr>\n",
       "<tr>\n",
       "  <th>Prob(Omnibus):</th> <td> 0.000</td> <th>  Jarque-Bera (JB):  </th> <td>  47.906</td>\n",
       "</tr>\n",
       "<tr>\n",
       "  <th>Skew:</th>          <td>-0.012</td> <th>  Prob(JB):          </th> <td>3.96e-11</td>\n",
       "</tr>\n",
       "<tr>\n",
       "  <th>Kurtosis:</th>      <td> 4.296</td> <th>  Cond. No.          </th> <td>    40.5</td>\n",
       "</tr>\n",
       "</table><br/><br/>Warnings:<br/>[1] Standard Errors assume that the covariance matrix of the errors is correctly specified."
      ],
      "text/plain": [
       "<class 'statsmodels.iolib.summary.Summary'>\n",
       "\"\"\"\n",
       "                            OLS Regression Results                            \n",
       "==============================================================================\n",
       "Dep. Variable:                  tsret   R-squared:                       0.092\n",
       "Model:                            OLS   Adj. R-squared:                  0.087\n",
       "Method:                 Least Squares   F-statistic:                     17.22\n",
       "Date:                Tue, 26 Nov 2019   Prob (F-statistic):           1.82e-13\n",
       "Time:                        19:19:02   Log-Likelihood:                 508.73\n",
       "No. Observations:                 684   AIC:                            -1007.\n",
       "Df Residuals:                     679   BIC:                            -984.8\n",
       "Df Model:                           4                                         \n",
       "Covariance Type:            nonrobust                                         \n",
       "==============================================================================\n",
       "                 coef    std err          t      P>|t|      [0.025      0.975]\n",
       "------------------------------------------------------------------------------\n",
       "Intercept      0.0035      0.005      0.750      0.453      -0.006       0.013\n",
       "MKTRF          0.3812      0.110      3.463      0.001       0.165       0.597\n",
       "SMB           -0.4591      0.154     -2.983      0.003      -0.761      -0.157\n",
       "HML            0.4926      0.171      2.884      0.004       0.157       0.828\n",
       "MOM            0.8358      0.111      7.547      0.000       0.618       1.053\n",
       "==============================================================================\n",
       "Omnibus:                       20.992   Durbin-Watson:                   2.032\n",
       "Prob(Omnibus):                  0.000   Jarque-Bera (JB):               47.906\n",
       "Skew:                          -0.012   Prob(JB):                     3.96e-11\n",
       "Kurtosis:                       4.296   Cond. No.                         40.5\n",
       "==============================================================================\n",
       "\n",
       "Warnings:\n",
       "[1] Standard Errors assume that the covariance matrix of the errors is correctly specified.\n",
       "\"\"\""
      ]
     },
     "execution_count": 15,
     "metadata": {},
     "output_type": "execute_result"
    }
   ],
   "source": [
    "results2 = smf.ols('tsret ~ MKTRF + SMB + HML + MOM', join).fit()\n",
    "results2.summary()"
   ]
  },
  {
   "cell_type": "code",
   "execution_count": 16,
   "metadata": {},
   "outputs": [
    {
     "data": {
      "text/html": [
       "<div>\n",
       "<style scoped>\n",
       "    .dataframe tbody tr th:only-of-type {\n",
       "        vertical-align: middle;\n",
       "    }\n",
       "\n",
       "    .dataframe tbody tr th {\n",
       "        vertical-align: top;\n",
       "    }\n",
       "\n",
       "    .dataframe thead th {\n",
       "        text-align: right;\n",
       "    }\n",
       "</style>\n",
       "<table border=\"1\" class=\"dataframe\">\n",
       "  <thead>\n",
       "    <tr style=\"text-align: right;\">\n",
       "      <th></th>\n",
       "      <th>tsret</th>\n",
       "    </tr>\n",
       "    <tr>\n",
       "      <th>Date</th>\n",
       "      <th></th>\n",
       "    </tr>\n",
       "  </thead>\n",
       "  <tbody>\n",
       "    <tr>\n",
       "      <td>2013-12-31</td>\n",
       "      <td>1.25447</td>\n",
       "    </tr>\n",
       "    <tr>\n",
       "      <td>2014-12-31</td>\n",
       "      <td>0.39847</td>\n",
       "    </tr>\n",
       "    <tr>\n",
       "      <td>2015-12-31</td>\n",
       "      <td>-0.31512</td>\n",
       "    </tr>\n",
       "    <tr>\n",
       "      <td>2016-12-31</td>\n",
       "      <td>0.11997</td>\n",
       "    </tr>\n",
       "    <tr>\n",
       "      <td>2017-12-31</td>\n",
       "      <td>1.14240</td>\n",
       "    </tr>\n",
       "  </tbody>\n",
       "</table>\n",
       "</div>"
      ],
      "text/plain": [
       "              tsret\n",
       "Date               \n",
       "2013-12-31  1.25447\n",
       "2014-12-31  0.39847\n",
       "2015-12-31 -0.31512\n",
       "2016-12-31  0.11997\n",
       "2017-12-31  1.14240"
      ]
     },
     "execution_count": 16,
     "metadata": {},
     "output_type": "execute_result"
    }
   ],
   "source": [
    "ann_ts_ret = (ts_ret+1).resample('Y').prod()-1\n",
    "ann_ts_ret.tail()\n"
   ]
  },
  {
   "cell_type": "code",
   "execution_count": 17,
   "metadata": {},
   "outputs": [
    {
     "data": {
      "text/plain": [
       "([], <a list of 0 Text xticklabel objects>)"
      ]
     },
     "execution_count": 17,
     "metadata": {},
     "output_type": "execute_result"
    },
    {
     "data": {
      "image/png": "[encoded data removed]",
      "text/plain": [
       "<Figure size 432x288 with 1 Axes>"
      ]
     },
     "metadata": {
      "needs_background": "light"
     },
     "output_type": "display_data"
    }
   ],
   "source": [
    "sns.barplot(ann_ts_ret.index,ann_ts_ret.tsret, data=ann_ts_ret)\n",
    "plt.suptitle('Annual Return Bar Chart')\n",
    "plt.xticks([])"
   ]
  },
  {
   "cell_type": "code",
   "execution_count": 18,
   "metadata": {
    "scrolled": false
   },
   "outputs": [
    {
     "data": {
      "text/markdown": [
       "**The info ratio is: 0.09524849485015204**"
      ],
      "text/plain": [
       "<IPython.core.display.Markdown object>"
      ]
     },
     "metadata": {},
     "output_type": "display_data"
    }
   ],
   "source": [
    "std_error = (join.tsret - results.predict(join)).std()\n",
    "info_ratio = results.params[0]/std_error\n",
    "printmd(f'**The info ratio is: {info_ratio}**')"
   ]
  },
  {
   "cell_type": "code",
   "execution_count": 19,
   "metadata": {
    "scrolled": false
   },
   "outputs": [
    {
     "data": {
      "text/plain": [
       "Text(0.5, 0.98, 'Empirical Density Function')"
      ]
     },
     "execution_count": 19,
     "metadata": {},
     "output_type": "execute_result"
    },
    {
     "data": {
      "image/png": "[encoded data removed]",
      "text/plain": [
       "<Figure size 432x288 with 1 Axes>"
      ]
     },
     "metadata": {
      "needs_background": "light"
     },
     "output_type": "display_data"
    }
   ],
   "source": [
    "sns.distplot(join.tsret, bins=45)\n",
    "plt.suptitle('Empirical Density Function')"
   ]
  },
  {
   "cell_type": "code",
   "execution_count": 20,
   "metadata": {
    "scrolled": false
   },
   "outputs": [
    {
     "data": {
      "text/markdown": [
       "**5% VAR: -0.17388846608524994**"
      ],
      "text/plain": [
       "<IPython.core.display.Markdown object>"
      ]
     },
     "metadata": {},
     "output_type": "display_data"
    },
    {
     "data": {
      "text/markdown": [
       "**Kurtosis: 1.1436305114347327**"
      ],
      "text/plain": [
       "<IPython.core.display.Markdown object>"
      ]
     },
     "metadata": {},
     "output_type": "display_data"
    },
    {
     "data": {
      "text/markdown": [
       "**Skewness: -0.15938277432577416**"
      ],
      "text/plain": [
       "<IPython.core.display.Markdown object>"
      ]
     },
     "metadata": {},
     "output_type": "display_data"
    }
   ],
   "source": [
    "hist_var = join.tsret.quantile(0.05)\n",
    "printmd(f'**5% VAR: {hist_var}**')\n",
    "printmd('**Kurtosis: {}**'.format( kurtosis(join.tsret) ))\n",
    "printmd('**Skewness: {}**'.format( skew(join.tsret) ))"
   ]
  },
  {
   "cell_type": "code",
   "execution_count": 21,
   "metadata": {
    "scrolled": true
   },
   "outputs": [
    {
     "data": {
      "text/html": [
       "<div>\n",
       "<style scoped>\n",
       "    .dataframe tbody tr th:only-of-type {\n",
       "        vertical-align: middle;\n",
       "    }\n",
       "\n",
       "    .dataframe tbody tr th {\n",
       "        vertical-align: top;\n",
       "    }\n",
       "\n",
       "    .dataframe thead th {\n",
       "        text-align: right;\n",
       "    }\n",
       "</style>\n",
       "<table border=\"1\" class=\"dataframe\">\n",
       "  <thead>\n",
       "    <tr style=\"text-align: right;\">\n",
       "      <th></th>\n",
       "      <th>tsret</th>\n",
       "      <th>MKTRF</th>\n",
       "      <th>SMB</th>\n",
       "      <th>HML</th>\n",
       "      <th>MOM</th>\n",
       "    </tr>\n",
       "    <tr>\n",
       "      <th>Date</th>\n",
       "      <th></th>\n",
       "      <th></th>\n",
       "      <th></th>\n",
       "      <th></th>\n",
       "      <th></th>\n",
       "    </tr>\n",
       "  </thead>\n",
       "  <tbody>\n",
       "    <tr>\n",
       "      <td>1961-01-31</td>\n",
       "      <td>-0.23798</td>\n",
       "      <td>0.06200</td>\n",
       "      <td>0.00650</td>\n",
       "      <td>0.03700</td>\n",
       "      <td>-0.03970</td>\n",
       "    </tr>\n",
       "    <tr>\n",
       "      <td>1961-02-28</td>\n",
       "      <td>0.10340</td>\n",
       "      <td>0.03570</td>\n",
       "      <td>0.03970</td>\n",
       "      <td>-0.00740</td>\n",
       "      <td>0.01030</td>\n",
       "    </tr>\n",
       "    <tr>\n",
       "      <td>1961-03-31</td>\n",
       "      <td>0.10020</td>\n",
       "      <td>0.02890</td>\n",
       "      <td>0.03230</td>\n",
       "      <td>-0.00770</td>\n",
       "      <td>0.04180</td>\n",
       "    </tr>\n",
       "    <tr>\n",
       "      <td>1961-04-30</td>\n",
       "      <td>0.00910</td>\n",
       "      <td>0.00290</td>\n",
       "      <td>0.00130</td>\n",
       "      <td>0.02050</td>\n",
       "      <td>0.03520</td>\n",
       "    </tr>\n",
       "    <tr>\n",
       "      <td>1961-05-31</td>\n",
       "      <td>0.05102</td>\n",
       "      <td>0.02400</td>\n",
       "      <td>0.01950</td>\n",
       "      <td>0.00480</td>\n",
       "      <td>-0.01500</td>\n",
       "    </tr>\n",
       "  </tbody>\n",
       "</table>\n",
       "</div>"
      ],
      "text/plain": [
       "              tsret   MKTRF     SMB      HML      MOM\n",
       "Date                                                 \n",
       "1961-01-31 -0.23798 0.06200 0.00650  0.03700 -0.03970\n",
       "1961-02-28  0.10340 0.03570 0.03970 -0.00740  0.01030\n",
       "1961-03-31  0.10020 0.02890 0.03230 -0.00770  0.04180\n",
       "1961-04-30  0.00910 0.00290 0.00130  0.02050  0.03520\n",
       "1961-05-31  0.05102 0.02400 0.01950  0.00480 -0.01500"
      ]
     },
     "execution_count": 21,
     "metadata": {},
     "output_type": "execute_result"
    }
   ],
   "source": [
    "join.head()"
   ]
  },
  {
   "cell_type": "code",
   "execution_count": 22,
   "metadata": {},
   "outputs": [
    {
     "data": {
      "text/markdown": [
       "**The Max Draw Down is: -0.5623774965223647**"
      ],
      "text/plain": [
       "<IPython.core.display.Markdown object>"
      ]
     },
     "metadata": {},
     "output_type": "display_data"
    },
    {
     "data": {
      "text/plain": [
       "Text(0.5, 0.98, 'Draw Down from High Water Mark')"
      ]
     },
     "execution_count": 22,
     "metadata": {},
     "output_type": "execute_result"
    },
    {
     "data": {
      "image/png": "[encoded data removed]",
      "text/plain": [
       "<Figure size 432x288 with 1 Axes>"
      ]
     },
     "metadata": {
      "needs_background": "light"
     },
     "output_type": "display_data"
    }
   ],
   "source": [
    "\n",
    "ddd = pd.DataFrame(ts_ret.tsret.loc['2000-01-01':'2017-11-30'])\n",
    "ddd['cum_ret'] = (ddd +1).cumprod()\n",
    "ddd['hwm'] = ddd.cum_ret.cummax()\n",
    "ddd['dd'] = (ddd.cum_ret - ddd.hwm)/ddd.hwm\n",
    "\n",
    "maxdd = min(ddd.dd)\n",
    "\n",
    "printmd(f'**The Max Draw Down is: {maxdd}**')\n",
    "\n",
    "sns.barplot(x = ddd.index, y = ddd.dd, data = ddd)\n",
    "plt.ylabel('Draw Down')\n",
    "plt.xticks([])\n",
    "plt.suptitle('Draw Down from High Water Mark')\n"
   ]
  },
  {
   "cell_type": "code",
   "execution_count": null,
   "metadata": {},
   "outputs": [],
   "source": []
  }
 ],
 "metadata": {
  "kernelspec": {
   "display_name": "Python 3",
   "language": "python",
   "name": "python3"
  },
  "language_info": {
   "codemirror_mode": {
    "name": "ipython",
    "version": 3
   },
   "file_extension": ".py",
   "mimetype": "text/x-python",
   "name": "python",
   "nbconvert_exporter": "python",
   "pygments_lexer": "ipython3",
   "version": "3.7.4"
  }
 },
 "nbformat": 4,
 "nbformat_minor": 2
}
